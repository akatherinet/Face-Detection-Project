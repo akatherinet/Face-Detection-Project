{
 "cells": [
  {
   "cell_type": "code",
   "execution_count": 1,
   "id": "8aa8321f",
   "metadata": {},
   "outputs": [
    {
     "name": "stdout",
     "output_type": "stream",
     "text": [
      "Requirement already satisfied: opencv-python in c:\\users\\akath\\anaconda3\\lib\\site-packages (4.9.0.80)\n",
      "Requirement already satisfied: numpy>=1.21.2 in c:\\users\\akath\\anaconda3\\lib\\site-packages (from opencv-python) (1.24.3)\n"
     ]
    }
   ],
   "source": [
    "!pip install opencv-python\n"
   ]
  },
  {
   "cell_type": "code",
   "execution_count": 2,
   "id": "173146e7",
   "metadata": {},
   "outputs": [],
   "source": [
    "import cv2"
   ]
  },
  {
   "cell_type": "code",
   "execution_count": 5,
   "id": "513133e9",
   "metadata": {},
   "outputs": [],
   "source": [
    "face_cascade = cv2.CascadeClassifier(cv2.data.haarcascades + 'haarcascade_frontalface_default.xml')\n",
    "profile_cascade = cv2.CascadeClassifier(cv2.data.haarcascades + 'haarcascade_profileface.xml')\n",
    "eye_cascade = cv2.CascadeClassifier(cv2.data.haarcascades + 'haarcascade_eye.xml')\n",
    "mouth_cascade = cv2.CascadeClassifier(cv2.data.haarcascades + 'haarcascade_smile.xml')"
   ]
  },
  {
   "cell_type": "code",
   "execution_count": 22,
   "id": "20767972",
   "metadata": {},
   "outputs": [],
   "source": [
    "# Connect to the webcam\n",
    "cap = cv2.VideoCapture(0)\n",
    "\n",
    "# Detect faces, eyes, and mouths from different views \n",
    "def process_faces(frame, regions, color_face, color_eyes, color_mouths):\n",
    "    for (x, y, w, h) in regions:\n",
    "        # Draw a red bounding box around faces\n",
    "        cv2.rectangle(frame, (x, y), (x + w, y + h), color_face, 2)\n",
    "\n",
    "        # Region of Interest (ROI) for eyes within the detected face\n",
    "        roi_gray = gray[y:y + h, x:x + w]\n",
    "        roi_color = frame[y:y + h, x:x + w]\n",
    "        \n",
    "        # Detect eyes within the face\n",
    "        eyes = eye_cascade.detectMultiScale(roi_gray)\n",
    "        for (ex, ey, ew, eh) in eyes:\n",
    "            # Draw a green bounding box around the eyes\n",
    "            cv2.rectangle(roi_color, (ex, ey), (ex + ew, ey + eh), color_eyes, 2)\n",
    "            \n",
    "        # Detect mouths (smiles) within the face\n",
    "        mouths = mouth_cascade.detectMultiScale(roi_gray, scaleFactor=1.3, minNeighbors=5)\n",
    "        for (sx, sy, sw, sh) in mouths:\n",
    "            # Draw a blue bounding box around the mouths\n",
    "            cv2.rectangle(roi_color, (sx, sy), (sx + sw, sy + sh), color_mouths, 2)\n",
    "            \n",
    "# Set the colors for faces, eyes, and mouths\n",
    "color_face = (0, 0, 255)    # Red for faces\n",
    "color_eyes = (0, 255, 0)    # Green for eyes\n",
    "color_mouths = (255, 0, 0)  # Blue for mouths\n",
    "\n",
    "while True:\n",
    "\n",
    "    ret, frame = cap.read()\n",
    "\n",
    "    # Convert the frame to grayscale\n",
    "    gray = cv2.cvtColor(frame, cv2.COLOR_BGR2GRAY)\n",
    "\n",
    "    # Detect faces in the frame from the front and side profile\n",
    "    faces = face_cascade.detectMultiScale(gray, scaleFactor=1.3, minNeighbors=5)\n",
    "    profile = profile_cascade.detectMultiScale(gray, scaleFactor=1.3, minNeighbors=5)\n",
    "\n",
    "    # Process front faces\n",
    "    process_faces(frame, faces, color_face, color_eyes, color_mouths)\n",
    "\n",
    "    # Process profile faces\n",
    "    process_faces(frame, profile, color_face, color_eyes, color_mouths)\n",
    "    \n",
    "    # Display the result\n",
    "    cv2.imshow('Object Detection', frame)\n",
    "\n",
    "    # Break the loop when 's' key is pressed to stop\n",
    "    if cv2.waitKey(1) & 0xFF == ord('s'):\n",
    "        break\n",
    "\n",
    "# Release the capture when everything is done\n",
    "cap.release()\n",
    "cv2.destroyAllWindows()"
   ]
  }
 ],
 "metadata": {
  "kernelspec": {
   "display_name": "Python 3 (ipykernel)",
   "language": "python",
   "name": "python3"
  },
  "language_info": {
   "codemirror_mode": {
    "name": "ipython",
    "version": 3
   },
   "file_extension": ".py",
   "mimetype": "text/x-python",
   "name": "python",
   "nbconvert_exporter": "python",
   "pygments_lexer": "ipython3",
   "version": "3.11.5"
  }
 },
 "nbformat": 4,
 "nbformat_minor": 5
}
